{
 "cells": [
  {
   "cell_type": "markdown",
   "metadata": {},
   "source": [
    "#### Concept and development: Ryan Worm<br>"
   ]
  },
  {
   "cell_type": "markdown",
   "metadata": {},
   "source": []
  },
  {
   "cell_type": "markdown",
   "metadata": {},
   "source": [
    "##### This document is a Jupyter Notebook (.ipynb) file containing both plain-text"
   ]
  },
  {
   "cell_type": "code",
   "execution_count": 1,
   "metadata": {},
   "outputs": [
    {
     "name": "stdout",
     "output_type": "stream",
     "text": [
      "and code (HTML and Python),\n"
     ]
    }
   ],
   "source": [
    "print(f'and code (HTML and Python),') "
   ]
  },
  {
   "cell_type": "markdown",
   "metadata": {},
   "source": [
    "downloaded to pdf via *LaTeX* to allow for more technical transparency. This project is ongoing and projections evolve as further data is gathered.<br>"
   ]
  },
  {
   "cell_type": "markdown",
   "metadata": {},
   "source": [
    "# Introduction"
   ]
  },
  {
   "cell_type": "markdown",
   "metadata": {},
   "source": [
    "The events of the last year have highlighted large data gaps in fields of healthcare and behavioural sciences. This paper proposes a mental distress index to objectively track social stress over time, and correlate it with various economic indicators to help forecast short and intermediate behavioural responses to stressors.<br>"
   ]
  },
  {
   "cell_type": "markdown",
   "metadata": {},
   "source": [
    "By using tested infodemiological principles this paper proposes models to estimate levels of percieved stress by the general population in three general areas: sleep, employment, and anxiety. Although those attributes have some interrelation alone, significant $R^{2}$ values to multiple economic indicators strengthen the proposed Mental Distress Index (MDI).<br>"
   ]
  },
  {
   "cell_type": "markdown",
   "metadata": {},
   "source": [
    "Recent models based on Google Trends data have proven to be more accurate in predicting deaths by suicide then traditional models (Parker et al., 2017; Lee, J., 2020). Building upon these results I wanted to create a more dynamic model that represented both acute and chronic stress adaptations (Sapolsky, 2004). Lee (2020) identified accounting for search lag more accurately predicted deaths by suicide, further supporting the importance of distinguising between acute and chronic stress manifestations.  "
   ]
  },
  {
   "cell_type": "markdown",
   "metadata": {},
   "source": [
    "The 2019 year was used as a baseline for all Google Trends data as this was the time period of the *Mental health characteristics and suicidal thoughts (Stats Canada, 2019)* dataset on which this paper derives its baseline data. Using 2019 as a baseline we can also estimate current trends against pre-pandemic data for better contrast. This may help provide greater insight on evolving health and social trends, forecasting future behaviours. "
   ]
  },
  {
   "cell_type": "markdown",
   "metadata": {},
   "source": [
    "Mental distress will be used as a broad term encompassing any possible mental health condition commonly associated with stress, most commonly a combination of major depression and generalized anxiety disorder (Sapolsky, 2004). Mental health disorders are not simple, singular disease but complex heterogenous conditions.<br> "
   ]
  },
  {
   "cell_type": "markdown",
   "metadata": {},
   "source": [
    "This paper propses modeling methodology to estimate mental distress, as identified by *Statistics Canada: Mental health characteristics and suicidal thoughts (2019).* The number of individuals consulting with a health professional or experiencing suicidal thoughts will represent the number of individuals in mental distress in one year. The monthly mean of individuals experiencing MD is then multiplied by the monthly aggregate coefficient to calculate the monthly estimation of individuals suffering MD that month. "
   ]
  },
  {
   "cell_type": "markdown",
   "metadata": {},
   "source": [
    "##### Key Findings"
   ]
  },
  {
   "cell_type": "markdown",
   "metadata": {},
   "source": [
    "There were multiple economic indicators which showed significant correlation to the proposed models. Distinct patterns of acute and chronic stress may inferred from the time adjusted and non-adjusted mental distress index and  represent economical manifestations of physiological acute and chronic stress. The correlation to chronic stress on alcohol ($R^{2}$ = .22), healthcare ($R^{2}$ = .05) are greater then that of acute stress ($R^{2}$ = .10 and .04 accordingly). Acute stress was more strongly related to cannabis ($R^{2}$ = .32) and tobacco sales ($R^{2}$ = .15). It should be noted that tobacco had no relation to chronic stress ($R^{2}$ = 0) while cannabis still maintained a moderate correlation ($R^{2}$ = .22) with chronic stress."
   ]
  },
  {
   "cell_type": "markdown",
   "metadata": {},
   "source": [
    "# Methodology"
   ]
  },
  {
   "cell_type": "markdown",
   "metadata": {},
   "source": [
    "## Google Trends"
   ]
  },
  {
   "cell_type": "markdown",
   "metadata": {},
   "source": [
    "Google Trends debuted in 2015 and provides two optional time periods:"
   ]
  },
  {
   "cell_type": "markdown",
   "metadata": {},
   "source": [
    "- Real-time data over the last seven days\n",
    "- Non-realtime data going back to 2004 up to 36 hours from query time. "
   ]
  },
  {
   "cell_type": "markdown",
   "metadata": {},
   "source": [
    "Recent studies have identified keyword correlation between increased monthly Google search volume (MGSV) and death by suicide, alcohol and drugs (Parker et al., 2017; Lee, J., 2020). Of eighty-nine related search words, Lee (2020) identified four key words that he identified as having the highest correlation to increases in death by suicide:<br>"
   ]
  },
  {
   "cell_type": "markdown",
   "metadata": {},
   "source": [
    "- \"Generalzied Anxiety Disorder\" (GAD)<br>\n",
    "- \"Anxiety Disorder\"<br>\n",
    "- \"Insomnia\"<br>\n",
    "- \"Laid off\""
   ]
  },
  {
   "cell_type": "markdown",
   "metadata": {},
   "source": [
    "For the purposes of this study only Google Trends non-realtime datasets will be used. This allows for year over year  comparisons from which we can gather insight. "
   ]
  },
  {
   "cell_type": "markdown",
   "metadata": {},
   "source": [
    "As *General Anxiety Disorder* and *Anxiety Disorder* were very similar, Generalized Anxiety Disorder (disorder) was used alone to allow for balanced weighing between the stressor keywords. This allows the mental distress models to encompass a broader scope of stressors. The keywords for modeling coefficients were:<br>"
   ]
  },
  {
   "cell_type": "markdown",
   "metadata": {},
   "source": [
    "- GAD (disorder)<br>\n",
    "- Insomnia (disorder)<br>\n",
    "- Laid Off (keyword)"
   ]
  },
  {
   "cell_type": "markdown",
   "metadata": {},
   "source": [
    "Lee, J. (2020) noted a search lag between increased MGSV keyword searches and deaths related to suicide. To explore this difference two Google Trends algorithms will be used; one with a search lag applied and one without.<br>"
   ]
  },
  {
   "cell_type": "markdown",
   "metadata": {},
   "source": [
    "This functionally creates two different models: one using preceding months and another the data of the corresponding month. These delayed and acute models may represent an economical manifestation of the acute and delayed stress response as discussed by Sapolsky (2004). "
   ]
  },
  {
   "cell_type": "markdown",
   "metadata": {},
   "source": [
    "- GAD; 3 month lag<br>\n",
    "- Laid off; 2 month lag<br>\n",
    "- Insomnia; 1 month lag<br>\n",
    "\n",
    "Correlations between Mental Distress Index and Alcohol, Tobacco, Cannabis, Healthcare, and general GDP (excl. Cannabis) will also be evaluated to identify relationships between the impact of social stress and purchasing habits as represented by industry specific GDP or revenue. "
   ]
  },
  {
   "cell_type": "markdown",
   "metadata": {},
   "source": [
    "It should be noted that Google calculates a relative interest score rather then counting absolute search totals. This is to maintain validity over time as the user base expands.  Google Trends data as proven to be a valuable tool in the field of infodemiology, with over 88% of the search engine market as of October 2020. [(Statista, 2020)](\"https://www.statista.com/statistics/216573/worldwide-market-share-of-search-engines/#:~:text=Google%20has%20dominated%20the%20search,share%20as%20of%20July%202020\") "
   ]
  },
  {
   "cell_type": "markdown",
   "metadata": {},
   "source": [
    "## Data Processing"
   ]
  },
  {
   "cell_type": "markdown",
   "metadata": {},
   "source": [
    "### Data sources"
   ]
  },
  {
   "cell_type": "markdown",
   "metadata": {},
   "source": [
    "- Google Trends\n",
    "- Mental health characteristics and suicidal thoughts [(Stats Canada, 2019)](https://www150.statcan.gc.ca/t1/tbl1/en/tv.action?pid=1310009801)*<br>\n",
    "- Gross domestic product by industry, Sept 2020 [(Stats Canada, 2020)](https://www150.statcan.gc.ca/n1/daily-quotidien/201201/dq201201b-eng.htm)<br>\n",
    "- Tobacco, sales and inventories, monthly production (x1000) [(Stats Canada, 2020)](https://www150.statcan.gc.ca/t1/tbl1/en/tv.action?pid=1610004401)<br>\n",
    "- Monthly retail sales of beer, wine and liquor stores in Canada from 2015 to 2020 (in billion Canadian dollars) [(Statista, 2020)](https://www.statista.com/statistics/461798/monthly-retail-sales-of-beer-wine-and-liquor-stores-canada/)<br>"
   ]
  },
  {
   "cell_type": "markdown",
   "metadata": {},
   "source": [
    " *Baseline data for establishing the proposed mental distress index was established by adding 'Consultation with a health professional about emotional or mental health' and 'Suicidal thoughts (15 years and over)' together."
   ]
  },
  {
   "cell_type": "markdown",
   "metadata": {},
   "source": [
    "### Preprocessing"
   ]
  },
  {
   "cell_type": "markdown",
   "metadata": {},
   "source": [
    "- Calculating monthly mean Google Trends relative interest score of each relevant term from Oct 2017 - Jan 2021\n",
    "- Adjusted and non-adjusted aggregate Google Trends relative interest calculated\n",
    "- Baseline coefficients for 2019 established\n",
    "- Baseline coefficients for 2018 and 2020 calculated\n",
    "- Multiplied relative Time-adjusted and Non-adjusted coefficients by monthly baselines to calculate monthly estimate\n",
    "- Tobacco sales, Industry (excl. Cannabis), Cannabis, Healthcare, Alcohol sales"
   ]
  },
  {
   "cell_type": "markdown",
   "metadata": {},
   "source": [
    "![database](./images/database.png)"
   ]
  },
  {
   "cell_type": "markdown",
   "metadata": {},
   "source": [
    "### Processing"
   ]
  },
  {
   "cell_type": "markdown",
   "metadata": {},
   "source": [
    "#####  Importing dependancies"
   ]
  },
  {
   "cell_type": "code",
   "execution_count": 2,
   "metadata": {},
   "outputs": [],
   "source": [
    "import pandas as pd\n",
    "import numpy as np\n",
    "import matplotlib.pyplot as plt \n",
    "from numpy import nan\n",
    "from sklearn.linear_model import LinearRegression\n",
    "from sklearn.preprocessing import PolynomialFeatures\n",
    "import seaborn as sns\n",
    "import scipy"
   ]
  },
  {
   "cell_type": "markdown",
   "metadata": {},
   "source": [
    "#### Training models"
   ]
  },
  {
   "cell_type": "markdown",
   "metadata": {},
   "source": [
    "##### Reading in cleaned dataset"
   ]
  },
  {
   "cell_type": "code",
   "execution_count": 3,
   "metadata": {},
   "outputs": [],
   "source": [
    "db = pd.read_excel(\"./data/google_trends_db.xlsx\")"
   ]
  },
  {
   "cell_type": "markdown",
   "metadata": {},
   "source": [
    "#### Calculating mental distress indexes "
   ]
  },
  {
   "cell_type": "markdown",
   "metadata": {},
   "source": [
    "##### Setting date ranges"
   ]
  },
  {
   "cell_type": "code",
   "execution_count": 4,
   "metadata": {},
   "outputs": [],
   "source": [
    "startdate_18 = '2018-01-01'\n",
    "startdate_19 = '2019-01-01'\n",
    "startdate_20 = '2020-01-01'\n",
    "startdate_21 = '2021-01-01'\n",
    "enddate_18 = '2018-12-31'\n",
    "enddate_19 = '2019-12-31'\n",
    "enddate_20 = '2020-12-31'\n",
    "enddate_21 = '2021-12-31'"
   ]
  },
  {
   "cell_type": "markdown",
   "metadata": {},
   "source": [
    "##### 2018 MDI Estimations and script"
   ]
  },
  {
   "cell_type": "code",
   "execution_count": 5,
   "metadata": {},
   "outputs": [
    {
     "name": "stdout",
     "output_type": "stream",
     "text": [
      "The adjusted model predicts there were 7,790,068.3 Canadians who dealt with a mental health episode in 2018.\n",
      "The non-adjusted model predicts there were 8,066,567.2 Canadians who dealt with a mental health episode in 2018.\n"
     ]
    }
   ],
   "source": [
    "mask_2018 = (db['Date'] >= startdate_18) & (db['Date'] <= enddate_18)\n",
    "db_2018 = db.loc[mask_2018]\n",
    "non_distress_2018 = db_2018['Vulnerabilities (Non-adj)'].sum()\n",
    "adj_distress_2018 = db_2018['Vulnerabilities (Adj)'].sum()\n",
    "print(f'The adjusted model predicts there were {f\"{round(adj_distress_2018,1):,}\"} Canadians who dealt with a mental health episode in 2018.')\n",
    "print(f'The non-adjusted model predicts there were {f\"{round(non_distress_2018,1):,}\"} Canadians who dealt with a mental health episode in 2018.')"
   ]
  },
  {
   "cell_type": "markdown",
   "metadata": {},
   "source": [
    "##### 2019 Baseline confirmation"
   ]
  },
  {
   "cell_type": "code",
   "execution_count": 6,
   "metadata": {
    "scrolled": true
   },
   "outputs": [
    {
     "name": "stdout",
     "output_type": "stream",
     "text": [
      "The adjusted model confirms our baseline of 8,581,600.0 individuals who experienced a mental health episode in 2019.\n",
      "The non-adjusted model confirms our baseline of 8,581,600.0 individuals who experienced a mental health episode in 2019.\n"
     ]
    }
   ],
   "source": [
    "mask_2019 = (db['Date'] >= startdate_19) & (db['Date'] <= enddate_19)\n",
    "db_2019 = db.loc[mask_2019]\n",
    "non_distress_2019 = db_2019['Vulnerabilities (Non-adj)'].sum()\n",
    "adj_distress_2019 = db_2019['Vulnerabilities (Adj)'].sum()\n",
    "print(f'The adjusted model confirms our baseline of {f\"{round(adj_distress_2019,1):,}\"} individuals who experienced a mental health episode in 2019.')\n",
    "print(f'The non-adjusted model confirms our baseline of {f\"{round(non_distress_2019,1):,}\"} individuals who experienced a mental health episode in 2019.')"
   ]
  },
  {
   "cell_type": "markdown",
   "metadata": {},
   "source": [
    "##### 2020 MDI Estimations and script"
   ]
  },
  {
   "cell_type": "code",
   "execution_count": 7,
   "metadata": {},
   "outputs": [
    {
     "name": "stdout",
     "output_type": "stream",
     "text": [
      "The adjusted model predicts there were 9,789,138.0 individuals who dealt with a mental health episode in 2020.\n",
      "The non-adjusted model predicts there were 9,821,683.3 individuals who dealt with a mental health episode in 2020.\n"
     ]
    }
   ],
   "source": [
    "mask_2020 = (db['Date'] >= startdate_20) & (db['Date'] <= enddate_20)\n",
    "db_2020 = db.loc[mask_2020]\n",
    "non_distress_2020 = db_2020['Vulnerabilities (Non-adj)'].sum()\n",
    "adj_distress_2020 = db_2020['Vulnerabilities (Adj)'].sum()\n",
    "print(f'The adjusted model predicts there were {f\"{round(adj_distress_2020,1):,}\"} individuals who dealt with a mental health episode in 2020.')\n",
    "print(f'The non-adjusted model predicts there were {f\"{round(non_distress_2020,1):,}\"} individuals who dealt with a mental health episode in 2020.')"
   ]
  },
  {
   "cell_type": "markdown",
   "metadata": {},
   "source": [
    "##### 2021 MDI Estimations and script"
   ]
  },
  {
   "cell_type": "code",
   "execution_count": 8,
   "metadata": {},
   "outputs": [],
   "source": [
    "mask_2021 = (db['Date'] >= startdate_21) & (db['Date'] <= enddate_21)\n",
    "db_2021 = db.loc[mask_2021]\n",
    "non_distress_2021 = db_2021['Vulnerabilities (Non-adj)'].sum()\n",
    "adj_distress_2021 = db_2021['Vulnerabilities (Adj)'].sum()"
   ]
  },
  {
   "cell_type": "markdown",
   "metadata": {},
   "source": [
    "##### Isolating Jan 2018-2020 series"
   ]
  },
  {
   "cell_type": "code",
   "execution_count": 9,
   "metadata": {},
   "outputs": [],
   "source": [
    "jan_2018 = (db['Date'] == startdate_18)\n",
    "db_jan2018 = db.loc[jan_2018]\n",
    "jan_2019 = (db['Date'] == startdate_19)\n",
    "db_jan2019 = db.loc[jan_2019]\n",
    "jan_2020 = (db['Date'] == startdate_20)\n",
    "db_jan2020 = db.loc[jan_2020]\n",
    "jan_2021 = (db['Date'] == startdate_21)\n",
    "db_jan2021 = db.loc[jan_2021]"
   ]
  },
  {
   "cell_type": "markdown",
   "metadata": {},
   "source": [
    "##### Calculating naMDI for January 2018-2021 "
   ]
  },
  {
   "cell_type": "code",
   "execution_count": 10,
   "metadata": {},
   "outputs": [],
   "source": [
    "non_jan18 = db_jan2018['Vulnerabilities (Non-adj)'].sum()\n",
    "non_jan19 = db_jan2019['Vulnerabilities (Non-adj)'].sum()\n",
    "non_jan20 = db_jan2020['Vulnerabilities (Non-adj)'].sum()\n",
    "non_jan21 = db_jan2021['Vulnerabilities (Non-adj)'].sum()"
   ]
  },
  {
   "cell_type": "code",
   "execution_count": 11,
   "metadata": {},
   "outputs": [],
   "source": [
    "adj_jan18 = db_jan2018['Vulnerabilities (Adj)'].sum()\n",
    "adj_jan19 = db_jan2019['Vulnerabilities (Adj)'].sum()\n",
    "adj_jan20 = db_jan2020['Vulnerabilities (Adj)'].sum()\n",
    "adj_jan21 = db_jan2021['Vulnerabilities (Adj)'].sum()"
   ]
  },
  {
   "cell_type": "markdown",
   "metadata": {},
   "source": [
    "##### naMDI January 2021 vs January 2019 (Baseline)"
   ]
  },
  {
   "cell_type": "code",
   "execution_count": 12,
   "metadata": {
    "scrolled": true
   },
   "outputs": [],
   "source": [
    "non21v19 = non_jan21 / non_jan19\n",
    "rnd_non21v19 = round((non21v19*100),2)\n",
    "rnd_non21v19_ = round((non21v19*100) - 100,2)"
   ]
  },
  {
   "cell_type": "code",
   "execution_count": 13,
   "metadata": {},
   "outputs": [],
   "source": [
    "adj21v19 = adj_jan21 / adj_jan19\n",
    "rnd_adj21v19 = round((adj21v19*100),2)\n",
    "rnd_adj21v19_ = round((adj21v19*100) - 100,2)"
   ]
  },
  {
   "cell_type": "markdown",
   "metadata": {},
   "source": [
    "##### Soft-coding stress forecasting script"
   ]
  },
  {
   "cell_type": "code",
   "execution_count": 14,
   "metadata": {},
   "outputs": [
    {
     "name": "stdout",
     "output_type": "stream",
     "text": [
      "The adjusted model predicts there will be 844,543.2 individuals dealing with a mental health episode in January 2021.\n",
      "The non-adjusted model predicts there will be 726,300.3 individuals dealing with a mental health episode in January 2021.\n",
      "Current naMDI modeling indicate that January 2021 is 97.66% as stressful as January 2019 for the general Canadian population, while taMDI modeling suggests it will be 108.37% as stressful.\n"
     ]
    }
   ],
   "source": [
    "print(f'The adjusted model predicts there will be {f\"{round(adj_distress_2021,1):,}\"} individuals dealing with a mental health episode in January 2021.')\n",
    "print(f'The non-adjusted model predicts there will be {f\"{round(non_distress_2021,1):,}\"} individuals dealing with a mental health episode in January 2021.')\n",
    "print(f'Current naMDI modeling indicate that January 2021 is {rnd_non21v19}% as stressful as January 2019 for the general Canadian population, while taMDI modeling suggests it will be {rnd_adj21v19}% as stressful.')"
   ]
  },
  {
   "cell_type": "markdown",
   "metadata": {},
   "source": [
    "##### Calculating year-over-year estimates for taMDI and naMDI modeling"
   ]
  },
  {
   "cell_type": "code",
   "execution_count": 15,
   "metadata": {},
   "outputs": [],
   "source": [
    "adj_yoy_2020 = adj_distress_2020 - adj_distress_2019\n",
    "adj_pcnt_2020 = adj_distress_2020/adj_distress_2019\n",
    "non_yoy_2020 = non_distress_2020 - non_distress_2019\n",
    "non_pcnt_2020 = non_distress_2020/non_distress_2019"
   ]
  },
  {
   "cell_type": "markdown",
   "metadata": {},
   "source": [
    "##### Soft-coding prediction script"
   ]
  },
  {
   "cell_type": "code",
   "execution_count": 16,
   "metadata": {},
   "outputs": [
    {
     "name": "stdout",
     "output_type": "stream",
     "text": [
      "Adjusted MDI predicts that 2020 saw an increase of 1,207,537.95 (114.07%) Canadians who experienced a serious mental health episode compared to 2019.\n",
      "Non-adjusted MDI predicts that 2020 saw an increase of 1,240,083.35 (114.45%) Canadians who experienced a serious mental health episode compared to 2019.\n"
     ]
    }
   ],
   "source": [
    "print(f'Adjusted MDI predicts that 2020 saw an increase of {f\"{round(adj_yoy_2020,2):,}\"} ({round(adj_pcnt_2020*100,2)}%) Canadians who experienced a serious mental health episode compared to 2019.')\n",
    "print(f'Non-adjusted MDI predicts that 2020 saw an increase of {f\"{round(non_yoy_2020,2):,}\"} ({round(non_pcnt_2020*100,2)}%) Canadians who experienced a serious mental health episode compared to 2019.')"
   ]
  },
  {
   "cell_type": "markdown",
   "metadata": {},
   "source": [
    "##### Creating labels and arrays for chart"
   ]
  },
  {
   "cell_type": "code",
   "execution_count": 17,
   "metadata": {},
   "outputs": [],
   "source": [
    "dist_labels = [\"2018\", \"2019\", \"2020\", \"Jan 2021 (forecast)\"]\n",
    "non_dist_df = [non_distress_2018, non_distress_2019, non_distress_2020 , non_distress_2021]\n",
    "adj_dist_df = [adj_distress_2018, adj_distress_2019, adj_distress_2020 , adj_distress_2021]"
   ]
  },
  {
   "cell_type": "markdown",
   "metadata": {},
   "source": [
    "##### Creating and storing model comparison dataframe "
   ]
  },
  {
   "cell_type": "code",
   "execution_count": 18,
   "metadata": {},
   "outputs": [
    {
     "data": {
      "text/html": [
       "<div>\n",
       "<style scoped>\n",
       "    .dataframe tbody tr th:only-of-type {\n",
       "        vertical-align: middle;\n",
       "    }\n",
       "\n",
       "    .dataframe tbody tr th {\n",
       "        vertical-align: top;\n",
       "    }\n",
       "\n",
       "    .dataframe thead th {\n",
       "        text-align: right;\n",
       "    }\n",
       "</style>\n",
       "<table border=\"1\" class=\"dataframe\">\n",
       "  <thead>\n",
       "    <tr style=\"text-align: right;\">\n",
       "      <th></th>\n",
       "      <th>Model</th>\n",
       "      <th>2018</th>\n",
       "      <th>2019</th>\n",
       "      <th>2020</th>\n",
       "      <th>2021</th>\n",
       "    </tr>\n",
       "  </thead>\n",
       "  <tbody>\n",
       "    <tr>\n",
       "      <th>0</th>\n",
       "      <td>Time-adjusted</td>\n",
       "      <td>7,790,068.27</td>\n",
       "      <td>8,581,600.0</td>\n",
       "      <td>9,789,137.95</td>\n",
       "      <td>844,543.21</td>\n",
       "    </tr>\n",
       "    <tr>\n",
       "      <th>1</th>\n",
       "      <td>Non-adjusted</td>\n",
       "      <td>8,066,567.22</td>\n",
       "      <td>8,581,600.0</td>\n",
       "      <td>9,821,683.35</td>\n",
       "      <td>726,300.28</td>\n",
       "    </tr>\n",
       "  </tbody>\n",
       "</table>\n",
       "</div>"
      ],
      "text/plain": [
       "           Model          2018         2019          2020        2021\n",
       "0  Time-adjusted  7,790,068.27  8,581,600.0  9,789,137.95  844,543.21\n",
       "1   Non-adjusted  8,066,567.22  8,581,600.0  9,821,683.35  726,300.28"
      ]
     },
     "execution_count": 18,
     "metadata": {},
     "output_type": "execute_result"
    }
   ],
   "source": [
    "dist_d = {'Model':[\"Time-adjusted\", \"Non-adjusted\"],\n",
    "      '2018':[(f\"{round(adj_distress_2018,2):,}\"), (f\"{round(non_distress_2018,2):,}\")],\n",
    "      '2019':[(f\"{round(adj_distress_2019,2):,}\"), (f\"{round(non_distress_2019,2):,}\")],\n",
    "      '2020':[(f\"{round(adj_distress_2020,2):,}\"), (f\"{round(non_distress_2020,2):,}\")],\n",
    "      '2021':[(f\"{round(adj_distress_2021,2):,}\"), (f\"{round(non_distress_2021,2):,}\")]\n",
    "     }\n",
    "dist_df = pd.DataFrame(data=dist_d)\n",
    "dist_df"
   ]
  },
  {
   "cell_type": "markdown",
   "metadata": {},
   "source": [
    "##### Plotting grouped bar plot for model comparison"
   ]
  },
  {
   "cell_type": "code",
   "execution_count": 19,
   "metadata": {},
   "outputs": [
    {
     "data": {
      "image/png": "[encoded data removed]",
      "text/plain": [
       "<Figure size 468x288 with 1 Axes>"
      ]
     },
     "metadata": {
      "needs_background": "light"
     },
     "output_type": "display_data"
    }
   ],
   "source": [
    "x = np.arange(len(dist_labels))\n",
    "width = 0.35  \n",
    "fig, ax = plt.subplots(figsize=(6.5, 4.0))\n",
    "rect_adj = ax.bar(x - width/2, adj_dist_df, width, color='#522B47', label='Time-adjusted Model')\n",
    "rect_dist = ax.bar(x + width/2, non_dist_df, width, color='#F44174',  label='Non-adjusted model')\n",
    "ax.set_ylabel('Estimated Canadians in mental distress')\n",
    "ax.set_title('Mental Distress Index')\n",
    "ax.set_xticks(x)\n",
    "ax.set_xticklabels(dist_labels)\n",
    "ax.legend(loc='center right')\n",
    "plt.xticks(rotation=0)\n",
    "plt.savefig('./images/dist_chart.png', bbox_inches=\"tight\")"
   ]
  },
  {
   "cell_type": "markdown",
   "metadata": {},
   "source": [
    "#### taMDI & naMDI plots"
   ]
  },
  {
   "cell_type": "markdown",
   "metadata": {},
   "source": [
    "##### Storing date and estimations into variables "
   ]
  },
  {
   "cell_type": "code",
   "execution_count": 20,
   "metadata": {},
   "outputs": [],
   "source": [
    "date = db[\"Date\"]\n",
    "vul_adj = db[\"Vulnerabilities (Adj)\"]\n",
    "vul_non = db[\"Vulnerabilities (Non-adj)\"]"
   ]
  },
  {
   "cell_type": "markdown",
   "metadata": {},
   "source": [
    "##### Plotting taMDI"
   ]
  },
  {
   "cell_type": "code",
   "execution_count": 21,
   "metadata": {},
   "outputs": [
    {
     "data": {
      "image/png": "[encoded data removed]",
      "text/plain": [
       "<Figure size 432x288 with 1 Axes>"
      ]
     },
     "metadata": {
      "needs_background": "light"
     },
     "output_type": "display_data"
    }
   ],
   "source": [
    "plt.plot(date,  vul_adj)\n",
    "plt.xlabel(\"Date\")\n",
    "plt.xticks(rotation=90)\n",
    "plt.ylabel(\"Estimated MD Incidence\")\n",
    "plt.title('Time-adjusted MDI')\n",
    "plt.savefig('./images/taMDI.png', bbox_inches=\"tight\")"
   ]
  },
  {
   "cell_type": "markdown",
   "metadata": {},
   "source": [
    "##### Plotting naMDI"
   ]
  },
  {
   "cell_type": "code",
   "execution_count": 22,
   "metadata": {},
   "outputs": [
    {
     "data": {
      "image/png": "[encoded data removed]",
      "text/plain": [
       "<Figure size 432x288 with 1 Axes>"
      ]
     },
     "metadata": {
      "needs_background": "light"
     },
     "output_type": "display_data"
    }
   ],
   "source": [
    "plt.plot(date, vul_non)\n",
    "plt.xlabel(\"Date\")\n",
    "plt.xticks(rotation=90)\n",
    "plt.ylabel(\"Estimated MD Incidence\")\n",
    "plt.title('Non-adjusted MDI')\n",
    "plt.savefig('./images/naMDI.png', bbox_inches=\"tight\")"
   ]
  },
  {
   "cell_type": "markdown",
   "metadata": {},
   "source": [
    "### Economic indicators"
   ]
  },
  {
   "cell_type": "markdown",
   "metadata": {},
   "source": [
    "#### Alcohol Sales"
   ]
  },
  {
   "cell_type": "markdown",
   "metadata": {},
   "source": [
    "##### Dropping null values"
   ]
  },
  {
   "cell_type": "code",
   "execution_count": 23,
   "metadata": {},
   "outputs": [],
   "source": [
    "alcohol_db = db[['Date', 'Alcohol Sales (Billion)']].copy()\n",
    "alcohol_db2 = alcohol_db.dropna(axis=0)"
   ]
  },
  {
   "cell_type": "markdown",
   "metadata": {},
   "source": [
    "##### Setting x and y values"
   ]
  },
  {
   "cell_type": "code",
   "execution_count": 24,
   "metadata": {},
   "outputs": [],
   "source": [
    "alcohol_date = alcohol_db2[\"Date\"]\n",
    "alcohol = alcohol_db2[\"Alcohol Sales (Billion)\"]"
   ]
  },
  {
   "cell_type": "markdown",
   "metadata": {},
   "source": [
    "##### Plotting and saving as .png"
   ]
  },
  {
   "cell_type": "code",
   "execution_count": 25,
   "metadata": {},
   "outputs": [
    {
     "data": {
      "image/png": "[encoded data removed]",
      "text/plain": [
       "<Figure size 432x288 with 1 Axes>"
      ]
     },
     "metadata": {
      "needs_background": "light"
     },
     "output_type": "display_data"
    }
   ],
   "source": [
    "plt.plot(alcohol_date, alcohol)\n",
    "plt.xlabel(\"Date\")\n",
    "plt.xticks(rotation=90)\n",
    "plt.ylabel(\"$Billion CAD\")\n",
    "plt.title('Alcohol Sales')\n",
    "plt.savefig('./images/alcohol.png', bbox_inches=\"tight\")"
   ]
  },
  {
   "cell_type": "markdown",
   "metadata": {},
   "source": [
    "#### Cigarette Sales "
   ]
  },
  {
   "cell_type": "markdown",
   "metadata": {},
   "source": [
    "##### Dropping null values"
   ]
  },
  {
   "cell_type": "code",
   "execution_count": 26,
   "metadata": {},
   "outputs": [],
   "source": [
    "cig_db = db[['Date', 'Tobacco Sales (x1000)']].copy()\n",
    "cig_db2 = cig_db.dropna(axis=0)"
   ]
  },
  {
   "cell_type": "markdown",
   "metadata": {},
   "source": [
    "##### Setting x and y values"
   ]
  },
  {
   "cell_type": "code",
   "execution_count": 27,
   "metadata": {},
   "outputs": [],
   "source": [
    "cig_date = cig_db2[\"Date\"]\n",
    "cig = cig_db2[\"Tobacco Sales (x1000)\"]"
   ]
  },
  {
   "cell_type": "markdown",
   "metadata": {},
   "source": [
    "##### Plotting "
   ]
  },
  {
   "cell_type": "code",
   "execution_count": 28,
   "metadata": {
    "scrolled": true
   },
   "outputs": [
    {
     "data": {
      "image/png": "[encoded data removed]",
      "text/plain": [
       "<Figure size 432x288 with 1 Axes>"
      ]
     },
     "metadata": {
      "needs_background": "light"
     },
     "output_type": "display_data"
    }
   ],
   "source": [
    "plt.plot(cig_date, cig)\n",
    "plt.xlabel(\"Date\")\n",
    "plt.xticks(rotation=90)\n",
    "plt.ylabel(\"$ Thousand CAD\")\n",
    "plt.title(\"Cigarette Sales\")\n",
    "plt.savefig('./images/cig.png', bbox_inches=\"tight\")"
   ]
  },
  {
   "cell_type": "markdown",
   "metadata": {},
   "source": [
    "#### Industry (excl. Cannabis)"
   ]
  },
  {
   "cell_type": "markdown",
   "metadata": {},
   "source": [
    "##### Dropping null values"
   ]
  },
  {
   "cell_type": "code",
   "execution_count": 29,
   "metadata": {},
   "outputs": [],
   "source": [
    "ind_db = db[['Date', 'All industry (ex. Cannabis)']].copy()\n",
    "ind_db2 = ind_db.dropna(axis=0)"
   ]
  },
  {
   "cell_type": "markdown",
   "metadata": {},
   "source": [
    "#### Setting x and y values"
   ]
  },
  {
   "cell_type": "code",
   "execution_count": 30,
   "metadata": {},
   "outputs": [],
   "source": [
    "ind_date = ind_db2[\"Date\"]\n",
    "industry = ind_db2[\"All industry (ex. Cannabis)\"]"
   ]
  },
  {
   "cell_type": "markdown",
   "metadata": {},
   "source": [
    "#### Plotting and saving as .png"
   ]
  },
  {
   "cell_type": "code",
   "execution_count": 31,
   "metadata": {},
   "outputs": [
    {
     "data": {
      "image/png": "[encoded data removed]",
      "text/plain": [
       "<Figure size 432x288 with 1 Axes>"
      ]
     },
     "metadata": {
      "needs_background": "light"
     },
     "output_type": "display_data"
    }
   ],
   "source": [
    "plt.plot(ind_date, industry)\n",
    "plt.xlabel(\"Date\")\n",
    "plt.xticks(rotation=90)\n",
    "plt.ylabel(\"$ Thousand CAD\")\n",
    "plt.title(\"Industry (excl. Cannabis) GDP\")\n",
    "plt.savefig('./images/ind.png', bbox_inches=\"tight\")"
   ]
  },
  {
   "cell_type": "markdown",
   "metadata": {},
   "source": [
    "#### Cannabis"
   ]
  },
  {
   "cell_type": "markdown",
   "metadata": {},
   "source": [
    "##### Dropping null values"
   ]
  },
  {
   "cell_type": "code",
   "execution_count": 32,
   "metadata": {},
   "outputs": [],
   "source": [
    "cannabis_db = db[['Date', 'Cannabis Sector']].copy()\n",
    "cannabis_db2 = cannabis_db.dropna(axis=0)"
   ]
  },
  {
   "cell_type": "markdown",
   "metadata": {},
   "source": [
    "##### Setting x and y values"
   ]
  },
  {
   "cell_type": "code",
   "execution_count": 33,
   "metadata": {},
   "outputs": [],
   "source": [
    "cannabis_date = cannabis_db2[\"Date\"]\n",
    "cannabis = cannabis_db2[\"Cannabis Sector\"]"
   ]
  },
  {
   "cell_type": "markdown",
   "metadata": {},
   "source": [
    "##### Plotting and saving as .png"
   ]
  },
  {
   "cell_type": "code",
   "execution_count": 34,
   "metadata": {
    "scrolled": true
   },
   "outputs": [
    {
     "data": {
      "image/png": "[encoded data removed]",
      "text/plain": [
       "<Figure size 432x288 with 1 Axes>"
      ]
     },
     "metadata": {
      "needs_background": "light"
     },
     "output_type": "display_data"
    }
   ],
   "source": [
    "plt.plot(cannabis_date, cannabis)\n",
    "plt.xlabel(\"Date\")\n",
    "plt.xticks(rotation=90)\n",
    "plt.ylabel(\"$ Thousand CAD\")\n",
    "plt.title(\"Cannabis GDP\")\n",
    "plt.savefig('./images/cann.png', bbox_inches=\"tight\")"
   ]
  },
  {
   "cell_type": "markdown",
   "metadata": {},
   "source": [
    "#### Healthcare and Social Services"
   ]
  },
  {
   "cell_type": "markdown",
   "metadata": {},
   "source": [
    "##### Dropping the null values"
   ]
  },
  {
   "cell_type": "code",
   "execution_count": 35,
   "metadata": {},
   "outputs": [],
   "source": [
    "healthcare_db = db[['Date', 'Healthcare & Social Assistance']].copy()\n",
    "healthcare_db2 = healthcare_db.dropna(axis=0)"
   ]
  },
  {
   "cell_type": "markdown",
   "metadata": {},
   "source": [
    "##### Setting the x and y values"
   ]
  },
  {
   "cell_type": "code",
   "execution_count": 36,
   "metadata": {},
   "outputs": [],
   "source": [
    "healthcare_date = healthcare_db2[\"Date\"]\n",
    "healthcare = healthcare_db2[\"Healthcare & Social Assistance\"]"
   ]
  },
  {
   "cell_type": "markdown",
   "metadata": {},
   "source": [
    "##### Plotting data"
   ]
  },
  {
   "cell_type": "code",
   "execution_count": 37,
   "metadata": {},
   "outputs": [
    {
     "data": {
      "image/png": "[encoded data removed]",
      "text/plain": [
       "<Figure size 432x288 with 1 Axes>"
      ]
     },
     "metadata": {
      "needs_background": "light"
     },
     "output_type": "display_data"
    }
   ],
   "source": [
    "plt.plot(healthcare_date, healthcare)\n",
    "plt.xlabel(\"Date\")\n",
    "plt.xticks(rotation=90)\n",
    "plt.ylabel(\"$Thousand CAD\")\n",
    "plt.title(\"Healthcare & Social Assistance\")\n",
    "plt.savefig('./images/health.png', bbox_inches=\"tight\")"
   ]
  },
  {
   "cell_type": "markdown",
   "metadata": {},
   "source": [
    "## Calculating coefficients of determination"
   ]
  },
  {
   "cell_type": "markdown",
   "metadata": {},
   "source": [
    "### Stress and alcohol "
   ]
  },
  {
   "cell_type": "markdown",
   "metadata": {},
   "source": [
    "##### Dropping null values"
   ]
  },
  {
   "cell_type": "code",
   "execution_count": 38,
   "metadata": {},
   "outputs": [],
   "source": [
    "alc_mdi_db = db[['Date', 'Vulnerabilities (Adj)', 'Vulnerabilities (Non-adj)', 'Alcohol Sales (Billion)']]\n",
    "alc_mdi = alc_mdi_db.dropna(axis=0)"
   ]
  },
  {
   "cell_type": "markdown",
   "metadata": {},
   "source": [
    "##### Transposing array for linear regression"
   ]
  },
  {
   "cell_type": "code",
   "execution_count": 39,
   "metadata": {},
   "outputs": [],
   "source": [
    "alcohol = alc_mdi[\"Alcohol Sales (Billion)\"]\n",
    "vul_adj = alc_mdi[\"Vulnerabilities (Adj)\"]\n",
    "vul_non = alc_mdi[\"Vulnerabilities (Non-adj)\"]\n",
    "x_stress_adj = np.array(vul_adj).reshape((-1, 1))\n",
    "x_stress_non = np.array(vul_non).reshape((-1, 1))"
   ]
  },
  {
   "cell_type": "markdown",
   "metadata": {},
   "source": [
    "##### Fitting dependant variable (alcohol) to array"
   ]
  },
  {
   "cell_type": "code",
   "execution_count": 40,
   "metadata": {},
   "outputs": [],
   "source": [
    "y_alcohol = np.array(alcohol)"
   ]
  },
  {
   "cell_type": "markdown",
   "metadata": {},
   "source": [
    "##### Fitting stress and alcohol to linear regression model"
   ]
  },
  {
   "cell_type": "code",
   "execution_count": 41,
   "metadata": {},
   "outputs": [],
   "source": [
    "stress_alcohol_model_adj = LinearRegression().fit(x_stress_adj, y_alcohol)\n",
    "stress_alcohol_model_non = LinearRegression().fit(x_stress_non, y_alcohol)"
   ]
  },
  {
   "cell_type": "markdown",
   "metadata": {},
   "source": [
    "##### Storing rounded linear $R^{2}$ value for f-string notation"
   ]
  },
  {
   "cell_type": "code",
   "execution_count": 42,
   "metadata": {},
   "outputs": [],
   "source": [
    "linear_r_adj_alcohol = round(stress_alcohol_model_adj.score(x_stress_adj, y_alcohol),2)\n",
    "linear_r_non_alcohol = round(stress_alcohol_model_non.score(x_stress_non, y_alcohol),2)"
   ]
  },
  {
   "cell_type": "markdown",
   "metadata": {},
   "source": [
    "##### Transforming to fit independant variable"
   ]
  },
  {
   "cell_type": "code",
   "execution_count": 43,
   "metadata": {},
   "outputs": [],
   "source": [
    "transformer = PolynomialFeatures(degree=2, include_bias=False)\n",
    "\n",
    "transformer_adj = transformer.fit(x_stress_adj)\n",
    "transformer_non = transformer.fit(x_stress_non)\n",
    "\n",
    "x_stress_adj_ = transformer_adj.transform(x_stress_adj)\n",
    "x_stress_non_ = transformer_non.transform(x_stress_non)"
   ]
  },
  {
   "cell_type": "markdown",
   "metadata": {},
   "source": [
    "##### Fitting polynomial regression model"
   ]
  },
  {
   "cell_type": "code",
   "execution_count": 44,
   "metadata": {},
   "outputs": [],
   "source": [
    "alcohol_poly_model_adj = LinearRegression().fit(x_stress_adj_, y_alcohol)\n",
    "alcohol_poly_model_non = LinearRegression().fit(x_stress_non_, y_alcohol)"
   ]
  },
  {
   "cell_type": "markdown",
   "metadata": {},
   "source": [
    "##### Scoring, rounding and storing $R^{2}$ values for alcohol"
   ]
  },
  {
   "cell_type": "code",
   "execution_count": 45,
   "metadata": {},
   "outputs": [],
   "source": [
    "poly_r_adj_alcohol = round(alcohol_poly_model_adj.score(x_stress_adj_, y_alcohol),2)\n",
    "poly_r_non_alcohol = round(alcohol_poly_model_non.score(x_stress_non_, y_alcohol),2)"
   ]
  },
  {
   "cell_type": "markdown",
   "metadata": {},
   "source": [
    "### Stress and cannabis"
   ]
  },
  {
   "cell_type": "markdown",
   "metadata": {},
   "source": [
    "##### Dropping null values"
   ]
  },
  {
   "cell_type": "code",
   "execution_count": 46,
   "metadata": {},
   "outputs": [],
   "source": [
    "cann_mdi_db = db[['Date', 'Vulnerabilities (Adj)', 'Vulnerabilities (Non-adj)', 'Cannabis Sector']]\n",
    "cann_mdi = cann_mdi_db.dropna(axis=0)"
   ]
  },
  {
   "cell_type": "markdown",
   "metadata": {},
   "source": [
    "##### Transposing array for linear regression"
   ]
  },
  {
   "cell_type": "code",
   "execution_count": 47,
   "metadata": {},
   "outputs": [],
   "source": [
    "cannabis = cann_mdi[\"Cannabis Sector\"]\n",
    "vul_adj = cann_mdi[\"Vulnerabilities (Adj)\"]\n",
    "vul_non = cann_mdi[\"Vulnerabilities (Non-adj)\"]\n",
    "x_stress_adj = np.array(vul_adj).reshape((-1, 1))\n",
    "x_stress_non = np.array(vul_non).reshape((-1, 1))"
   ]
  },
  {
   "cell_type": "markdown",
   "metadata": {},
   "source": [
    "##### Fitting variable to (cannabis)"
   ]
  },
  {
   "cell_type": "code",
   "execution_count": 48,
   "metadata": {},
   "outputs": [],
   "source": [
    "y_cannabis = np.array(cannabis)"
   ]
  },
  {
   "cell_type": "markdown",
   "metadata": {},
   "source": [
    "##### Fitting cannabis to linear regression model"
   ]
  },
  {
   "cell_type": "code",
   "execution_count": 49,
   "metadata": {},
   "outputs": [],
   "source": [
    "stress_cannabis_model_adj = LinearRegression().fit(x_stress_adj, y_cannabis)\n",
    "stress_cannabis_model_non = LinearRegression().fit(x_stress_non, y_cannabis)"
   ]
  },
  {
   "cell_type": "markdown",
   "metadata": {},
   "source": [
    "##### Scoring, rounding and storing linear  $R^{2}$ values for cannabis"
   ]
  },
  {
   "cell_type": "code",
   "execution_count": 50,
   "metadata": {},
   "outputs": [],
   "source": [
    "linear_r_adj_cann= round(stress_cannabis_model_adj.score(x_stress_adj, y_cannabis),2)\n",
    "linear_r_non_cann = round(stress_cannabis_model_non.score(x_stress_non, y_cannabis), 2)"
   ]
  },
  {
   "cell_type": "markdown",
   "metadata": {},
   "source": [
    "##### Transforming to fit independant variables"
   ]
  },
  {
   "cell_type": "code",
   "execution_count": 51,
   "metadata": {},
   "outputs": [],
   "source": [
    "transformer = PolynomialFeatures(degree=2, include_bias=False)\n",
    "\n",
    "transformer_adj = transformer.fit(x_stress_adj)\n",
    "transformer_non = transformer.fit(x_stress_non)\n",
    "\n",
    "x_stress_adj_ = transformer_adj.transform(x_stress_adj)\n",
    "x_stress_non_ = transformer_non.transform(x_stress_non)"
   ]
  },
  {
   "cell_type": "markdown",
   "metadata": {},
   "source": [
    "##### Fitting cannabis to polynomial regression "
   ]
  },
  {
   "cell_type": "code",
   "execution_count": 52,
   "metadata": {},
   "outputs": [],
   "source": [
    "cannabis_poly_model_adj = LinearRegression().fit(x_stress_adj_, y_cannabis)\n",
    "cannabis_poly_model_non = LinearRegression().fit(x_stress_non_, y_cannabis)"
   ]
  },
  {
   "cell_type": "markdown",
   "metadata": {},
   "source": [
    "##### Scoring, rounding and storing polynomial $R^{2}$ for cannabis"
   ]
  },
  {
   "cell_type": "code",
   "execution_count": 53,
   "metadata": {},
   "outputs": [],
   "source": [
    "poly_r_adj_cann = round(cannabis_poly_model_adj.score(x_stress_adj_, y_cannabis),2)\n",
    "poly_r_non_cann = round(cannabis_poly_model_non.score(x_stress_non_, y_cannabis),2)"
   ]
  },
  {
   "cell_type": "markdown",
   "metadata": {},
   "source": [
    "### Stress and Healthcare Expenditure"
   ]
  },
  {
   "cell_type": "markdown",
   "metadata": {},
   "source": [
    "##### Dropping null values"
   ]
  },
  {
   "cell_type": "code",
   "execution_count": 54,
   "metadata": {},
   "outputs": [],
   "source": [
    "health_mdi_db = db[['Date', 'Vulnerabilities (Adj)', 'Vulnerabilities (Non-adj)', 'Healthcare & Social Assistance']]\n",
    "health_mdi = health_mdi_db.dropna(axis=0)"
   ]
  },
  {
   "cell_type": "markdown",
   "metadata": {},
   "source": [
    "##### Transposing independant variables"
   ]
  },
  {
   "cell_type": "code",
   "execution_count": 55,
   "metadata": {},
   "outputs": [],
   "source": [
    "health = health_mdi['Healthcare & Social Assistance']\n",
    "vul_adj = health_mdi[\"Vulnerabilities (Adj)\"]\n",
    "vul_non = health_mdi[\"Vulnerabilities (Non-adj)\"]\n",
    "x_stress_adj = np.array(vul_adj).reshape((-1, 1))\n",
    "x_stress_non = np.array(vul_non).reshape((-1, 1))"
   ]
  },
  {
   "cell_type": "markdown",
   "metadata": {},
   "source": [
    "##### Setting dependant variable healthcare as array"
   ]
  },
  {
   "cell_type": "code",
   "execution_count": 56,
   "metadata": {},
   "outputs": [],
   "source": [
    "y_health = np.array(health)"
   ]
  },
  {
   "cell_type": "markdown",
   "metadata": {},
   "source": [
    "##### Fitting healthcare to linear regression model"
   ]
  },
  {
   "cell_type": "code",
   "execution_count": 57,
   "metadata": {},
   "outputs": [],
   "source": [
    "stress_health_model_adj = LinearRegression().fit(x_stress_adj, y_health)\n",
    "stress_health_model_non = LinearRegression().fit(x_stress_non, y_health)"
   ]
  },
  {
   "cell_type": "markdown",
   "metadata": {},
   "source": [
    "##### Fitting to polynomial regression model"
   ]
  },
  {
   "cell_type": "code",
   "execution_count": 58,
   "metadata": {},
   "outputs": [],
   "source": [
    "linear_r_adj_health = round(stress_health_model_adj.score(x_stress_adj, y_health),2)\n",
    "linear_r_non_health = round(stress_health_model_non.score(x_stress_non, y_health),2)"
   ]
  },
  {
   "cell_type": "markdown",
   "metadata": {},
   "source": [
    "##### Transposing independant variables array"
   ]
  },
  {
   "cell_type": "code",
   "execution_count": 59,
   "metadata": {},
   "outputs": [],
   "source": [
    "transformer = PolynomialFeatures(degree=2, include_bias=False)\n",
    "\n",
    "transformer_adj = transformer.fit(x_stress_adj)\n",
    "transformer_non = transformer.fit(x_stress_non)\n",
    "\n",
    "x_stress_adj_ = transformer_adj.transform(x_stress_adj)\n",
    "x_stress_non_ = transformer_non.transform(x_stress_non)"
   ]
  },
  {
   "cell_type": "markdown",
   "metadata": {},
   "source": [
    "##### Fitting healthcare to linear regression models"
   ]
  },
  {
   "cell_type": "code",
   "execution_count": 60,
   "metadata": {},
   "outputs": [],
   "source": [
    "health_poly_model_adj = LinearRegression().fit(x_stress_adj_, y_health)\n",
    "health_poly_model_non = LinearRegression().fit(x_stress_non_, y_health)"
   ]
  },
  {
   "cell_type": "markdown",
   "metadata": {},
   "source": [
    "##### Fitting healthcare to polynomial regression models"
   ]
  },
  {
   "cell_type": "code",
   "execution_count": 61,
   "metadata": {},
   "outputs": [],
   "source": [
    "poly_r_adj_health = round(health_poly_model_adj.score(x_stress_adj_, y_health),2)\n",
    "poly_r_non_health = round(health_poly_model_non.score(x_stress_non_, y_health),2)"
   ]
  },
  {
   "cell_type": "markdown",
   "metadata": {},
   "source": [
    "### All industries (excl. Cannabis)"
   ]
  },
  {
   "cell_type": "code",
   "execution_count": 62,
   "metadata": {},
   "outputs": [],
   "source": [
    "ind_mdi_db = db[['Date', 'Vulnerabilities (Adj)', 'Vulnerabilities (Non-adj)', 'All industry (ex. Cannabis)']]\n",
    "ind_mdi = ind_mdi_db.dropna(axis=0)"
   ]
  },
  {
   "cell_type": "markdown",
   "metadata": {},
   "source": [
    "##### Transposing independant variables array"
   ]
  },
  {
   "cell_type": "code",
   "execution_count": 63,
   "metadata": {},
   "outputs": [],
   "source": [
    "ind = ind_mdi['All industry (ex. Cannabis)']\n",
    "vul_adj = ind_mdi[\"Vulnerabilities (Adj)\"]\n",
    "vul_non = ind_mdi[\"Vulnerabilities (Non-adj)\"]\n",
    "x_stress_adj = np.array(vul_adj).reshape((-1, 1))\n",
    "x_stress_non = np.array(vul_non).reshape((-1, 1))"
   ]
  },
  {
   "cell_type": "markdown",
   "metadata": {},
   "source": [
    "##### Setting dependant variable as array"
   ]
  },
  {
   "cell_type": "code",
   "execution_count": 64,
   "metadata": {},
   "outputs": [],
   "source": [
    "y_ind = np.array(ind)"
   ]
  },
  {
   "cell_type": "markdown",
   "metadata": {},
   "source": [
    "##### Fitting dependant variable to linear regression model"
   ]
  },
  {
   "cell_type": "code",
   "execution_count": 65,
   "metadata": {},
   "outputs": [],
   "source": [
    "stress_ind_model_adj = LinearRegression().fit(x_stress_adj, y_ind)\n",
    "stress_ind_model_non = LinearRegression().fit(x_stress_non, y_ind)"
   ]
  },
  {
   "cell_type": "markdown",
   "metadata": {},
   "source": [
    "##### Scoring, rounding and storing linear regression as variable"
   ]
  },
  {
   "cell_type": "code",
   "execution_count": 66,
   "metadata": {},
   "outputs": [],
   "source": [
    "linear_r_adj_ind = round(stress_ind_model_adj.score(x_stress_adj, y_ind),2)\n",
    "linear_r_non_ind  = round(stress_ind_model_non.score(x_stress_non, y_ind),2)"
   ]
  },
  {
   "cell_type": "markdown",
   "metadata": {},
   "source": [
    "##### Transposing independant variables"
   ]
  },
  {
   "cell_type": "code",
   "execution_count": 67,
   "metadata": {},
   "outputs": [],
   "source": [
    "transformer = PolynomialFeatures(degree=2, include_bias=False)\n",
    "\n",
    "transformer_adj = transformer.fit(x_stress_adj)\n",
    "transformer_non = transformer.fit(x_stress_non)\n",
    "\n",
    "\n",
    "x_stress_adj_ = transformer_adj.transform(x_stress_adj)\n",
    "x_stress_non_ = transformer_non.transform(x_stress_non)"
   ]
  },
  {
   "cell_type": "markdown",
   "metadata": {},
   "source": [
    "##### Fitting industry (excl. cannabis) to polynomial regression model"
   ]
  },
  {
   "cell_type": "code",
   "execution_count": 68,
   "metadata": {},
   "outputs": [],
   "source": [
    "ind_poly_model_adj = LinearRegression().fit(x_stress_adj_, y_ind)\n",
    "ind_poly_model_non = LinearRegression().fit(x_stress_non_, y_ind)"
   ]
  },
  {
   "cell_type": "markdown",
   "metadata": {},
   "source": [
    "##### Scoring, rounding and storing $R^{2}$ value for polynomial model"
   ]
  },
  {
   "cell_type": "code",
   "execution_count": 69,
   "metadata": {},
   "outputs": [],
   "source": [
    "poly_r_adj_ind = round(ind_poly_model_adj.score(x_stress_adj_, y_ind),2)\n",
    "poly_r_non_ind = round(ind_poly_model_non.score(x_stress_non_, y_ind),2)"
   ]
  },
  {
   "cell_type": "markdown",
   "metadata": {},
   "source": [
    "### Tobacco"
   ]
  },
  {
   "cell_type": "markdown",
   "metadata": {},
   "source": [
    "##### Dropping null values"
   ]
  },
  {
   "cell_type": "code",
   "execution_count": 70,
   "metadata": {},
   "outputs": [],
   "source": [
    "cig_mdi_db = db[['Date', 'Vulnerabilities (Adj)', 'Vulnerabilities (Non-adj)', 'Tobacco Sales (x1000)']]\n",
    "cig_mdi = cig_mdi_db.dropna(axis=0)"
   ]
  },
  {
   "cell_type": "markdown",
   "metadata": {},
   "source": [
    "##### Transposing dependant variables"
   ]
  },
  {
   "cell_type": "code",
   "execution_count": 71,
   "metadata": {},
   "outputs": [],
   "source": [
    "cig = cig_mdi['Tobacco Sales (x1000)']\n",
    "vul_adj = cig_mdi[\"Vulnerabilities (Adj)\"]\n",
    "vul_non = cig_mdi[\"Vulnerabilities (Non-adj)\"]\n",
    "x_stress_adj = np.array(vul_adj).reshape((-1, 1))\n",
    "x_stress_non = np.array(vul_non).reshape((-1, 1))"
   ]
  },
  {
   "cell_type": "markdown",
   "metadata": {},
   "source": [
    "##### Setting dependant variable as array"
   ]
  },
  {
   "cell_type": "code",
   "execution_count": 72,
   "metadata": {},
   "outputs": [],
   "source": [
    "y_cig = np.array(cig)"
   ]
  },
  {
   "cell_type": "markdown",
   "metadata": {},
   "source": [
    "##### Fitting dependant variable cigarettes to linear regression model"
   ]
  },
  {
   "cell_type": "code",
   "execution_count": 73,
   "metadata": {},
   "outputs": [],
   "source": [
    "cig_health_model_adj = LinearRegression().fit(x_stress_adj, y_cig)\n",
    "cig_health_model_non = LinearRegression().fit(x_stress_non, y_cig)"
   ]
  },
  {
   "cell_type": "markdown",
   "metadata": {},
   "source": [
    "##### Scoring, rounding and storing as variable"
   ]
  },
  {
   "cell_type": "code",
   "execution_count": 74,
   "metadata": {},
   "outputs": [],
   "source": [
    "linear_r_adj_cig = round(cig_health_model_adj.score(x_stress_adj, y_cig),2)\n",
    "linear_r_non_cig = round(cig_health_model_non.score(x_stress_non, y_cig),2)"
   ]
  },
  {
   "cell_type": "markdown",
   "metadata": {},
   "source": [
    "##### Transposing independant variables"
   ]
  },
  {
   "cell_type": "code",
   "execution_count": 75,
   "metadata": {},
   "outputs": [],
   "source": [
    "transformer = PolynomialFeatures(degree=2, include_bias=False)\n",
    "\n",
    "transformer_adj = transformer.fit(x_stress_adj)\n",
    "transformer_non = transformer.fit(x_stress_non)\n",
    "\n",
    "\n",
    "x_stress_adj_ = transformer_adj.transform(x_stress_adj)\n",
    "x_stress_non_ = transformer_non.transform(x_stress_non)"
   ]
  },
  {
   "cell_type": "markdown",
   "metadata": {},
   "source": [
    "##### Fitting dependant variable cigarettes to polynomial regression model"
   ]
  },
  {
   "cell_type": "code",
   "execution_count": 76,
   "metadata": {},
   "outputs": [],
   "source": [
    "cig_poly_model_adj = LinearRegression().fit(x_stress_adj_, y_cig)\n",
    "cig_poly_model_non = LinearRegression().fit(x_stress_non_, y_cig)"
   ]
  },
  {
   "cell_type": "markdown",
   "metadata": {},
   "source": [
    "##### Scoring, rounding, and storing $R^{2}$ polynomial values"
   ]
  },
  {
   "cell_type": "code",
   "execution_count": 77,
   "metadata": {},
   "outputs": [],
   "source": [
    "poly_r_adj_cig = round(cig_poly_model_adj.score(x_stress_adj_, y_cig),2)\n",
    "poly_r_non_cig = round(cig_poly_model_non.score(x_stress_non_, y_cig),2)"
   ]
  },
  {
   "cell_type": "markdown",
   "metadata": {},
   "source": [
    "### Comparing predictive models"
   ]
  },
  {
   "cell_type": "markdown",
   "metadata": {},
   "source": [
    "##### Setting labels and values"
   ]
  },
  {
   "cell_type": "code",
   "execution_count": 78,
   "metadata": {},
   "outputs": [],
   "source": [
    "labels = [\"Healthcare\", \"Cannabis\", \"Industry (excl. Cannabis)\", \"Tobacco\", \"Alcohol\"]\n",
    "linear_acute_corr = [linear_r_non_health, linear_r_non_cann, linear_r_non_ind, linear_r_non_cig, linear_r_non_alcohol]\n",
    "linear_delay_corr = [linear_r_adj_health, linear_r_adj_cann, linear_r_adj_ind, linear_r_adj_cig , linear_r_adj_alcohol]\n",
    "poly_acute_corr = [poly_r_non_health, poly_r_non_cann, poly_r_non_ind, poly_r_non_cig, poly_r_non_alcohol]\n",
    "poly_delayed_corr = [poly_r_adj_health, poly_r_adj_cann, poly_r_adj_ind, poly_r_adj_cig, poly_r_adj_alcohol]"
   ]
  },
  {
   "cell_type": "markdown",
   "metadata": {},
   "source": [
    "##### Dataframe comparing linear regression $R^{2}$  scores"
   ]
  },
  {
   "cell_type": "code",
   "execution_count": 79,
   "metadata": {},
   "outputs": [
    {
     "data": {
      "text/html": [
       "<div>\n",
       "<style scoped>\n",
       "    .dataframe tbody tr th:only-of-type {\n",
       "        vertical-align: middle;\n",
       "    }\n",
       "\n",
       "    .dataframe tbody tr th {\n",
       "        vertical-align: top;\n",
       "    }\n",
       "\n",
       "    .dataframe thead th {\n",
       "        text-align: right;\n",
       "    }\n",
       "</style>\n",
       "<table border=\"1\" class=\"dataframe\">\n",
       "  <thead>\n",
       "    <tr style=\"text-align: right;\">\n",
       "      <th></th>\n",
       "      <th>${R^2}$ (Linear)</th>\n",
       "      <th>Healthcare</th>\n",
       "      <th>Cannabis</th>\n",
       "      <th>Industry (excl. Cannabis)</th>\n",
       "      <th>Cigarettes</th>\n",
       "      <th>Alcohol</th>\n",
       "    </tr>\n",
       "  </thead>\n",
       "  <tbody>\n",
       "    <tr>\n",
       "      <th>0</th>\n",
       "      <td>Acute</td>\n",
       "      <td>0.03</td>\n",
       "      <td>0.31</td>\n",
       "      <td>0.08</td>\n",
       "      <td>0.0</td>\n",
       "      <td>0.05</td>\n",
       "    </tr>\n",
       "    <tr>\n",
       "      <th>1</th>\n",
       "      <td>Delayed</td>\n",
       "      <td>0.04</td>\n",
       "      <td>0.21</td>\n",
       "      <td>0.06</td>\n",
       "      <td>0.0</td>\n",
       "      <td>0.18</td>\n",
       "    </tr>\n",
       "  </tbody>\n",
       "</table>\n",
       "</div>"
      ],
      "text/plain": [
       "  ${R^2}$ (Linear)  Healthcare  Cannabis  Industry (excl. Cannabis)  \\\n",
       "0            Acute        0.03      0.31                       0.08   \n",
       "1          Delayed        0.04      0.21                       0.06   \n",
       "\n",
       "   Cigarettes  Alcohol  \n",
       "0         0.0     0.05  \n",
       "1         0.0     0.18  "
      ]
     },
     "execution_count": 79,
     "metadata": {},
     "output_type": "execute_result"
    }
   ],
   "source": [
    "d1 = {'${R^2}$ (Linear)':[\"Acute\", \"Delayed\"],\n",
    "      'Healthcare':[linear_r_non_health, linear_r_adj_health],\n",
    "      'Cannabis':[linear_r_non_cann, linear_r_adj_cann],\n",
    "      'Industry (excl. Cannabis)':[linear_r_non_ind, linear_r_adj_ind],\n",
    "      'Cigarettes':[linear_r_non_cig, linear_r_adj_cig],\n",
    "      'Alcohol':[linear_r_non_alcohol, linear_r_adj_alcohol]\n",
    "     }\n",
    "df1 = pd.DataFrame(data=d1)\n",
    "df1"
   ]
  },
  {
   "cell_type": "markdown",
   "metadata": {},
   "source": [
    "##### Plotting grouped bar chart for linear $R^{2}$ values"
   ]
  },
  {
   "cell_type": "code",
   "execution_count": 80,
   "metadata": {},
   "outputs": [
    {
     "name": "stdout",
     "output_type": "stream",
     "text": [
      "Linear regression scores of the acute response (naMDI) and delayed response (taMDI) against the economic indicators.\n"
     ]
    },
    {
     "data": {
      "image/png": "[encoded data removed]",
      "text/plain": [
       "<Figure size 432x288 with 1 Axes>"
      ]
     },
     "metadata": {
      "needs_background": "light"
     },
     "output_type": "display_data"
    }
   ],
   "source": [
    "x = np.arange(len(labels))  # the label locations\n",
    "width = 0.35  # the width of the bars\n",
    "fig, ax = plt.subplots()\n",
    "rects1 = ax.bar(x - width/2, linear_acute_corr, width, color='#657153', label='Acute Response')\n",
    "rects2 = ax.bar(x + width/2, linear_delay_corr, width, color='#CF995F', label='Delayed Response')\n",
    "\n",
    "ax.set_ylabel('$R^{2}$ Score')\n",
    "ax.set_title('Acute vs. Delayed MGSV (Linear Regression)')\n",
    "ax.set_xticks(x)\n",
    "ax.set_xticklabels(labels)\n",
    "ax.legend()\n",
    "\n",
    "\n",
    "def autolabel(rects):\n",
    "    \"\"\"Attach a text label above each bar in *rects*, displaying its height.\"\"\"\n",
    "    for rect in rects:\n",
    "        height = rect.get_height()\n",
    "        ax.annotate('{}'.format(height),\n",
    "                    xy=(rect.get_x() + rect.get_width() / 2, height),\n",
    "                    xytext=(0, 3),  # 3 points vertical offset\n",
    "                    textcoords=\"offset points\",\n",
    "                    ha='center', va='bottom')\n",
    "\n",
    "\n",
    "fig.tight_layout()\n",
    "plt.xticks(rotation=90)\n",
    "print(f'Linear regression scores of the acute response (naMDI) and delayed response (taMDI) against the economic indicators.')\n",
    "plt.savefig('./images/line_chart.png', bbox_inches=\"tight\")"
   ]
  },
  {
   "cell_type": "markdown",
   "metadata": {},
   "source": [
    "#### Dataframe comparing polynomial $R^{2}$ values"
   ]
  },
  {
   "cell_type": "code",
   "execution_count": 81,
   "metadata": {},
   "outputs": [
    {
     "data": {
      "text/html": [
       "<div>\n",
       "<style scoped>\n",
       "    .dataframe tbody tr th:only-of-type {\n",
       "        vertical-align: middle;\n",
       "    }\n",
       "\n",
       "    .dataframe tbody tr th {\n",
       "        vertical-align: top;\n",
       "    }\n",
       "\n",
       "    .dataframe thead th {\n",
       "        text-align: right;\n",
       "    }\n",
       "</style>\n",
       "<table border=\"1\" class=\"dataframe\">\n",
       "  <thead>\n",
       "    <tr style=\"text-align: right;\">\n",
       "      <th></th>\n",
       "      <th>${R^2}$ (Polynomial)</th>\n",
       "      <th>Healthcare</th>\n",
       "      <th>Cannabis</th>\n",
       "      <th>Industry (excl. Cannabis)</th>\n",
       "      <th>Cigarettes</th>\n",
       "      <th>Alcohol</th>\n",
       "    </tr>\n",
       "  </thead>\n",
       "  <tbody>\n",
       "    <tr>\n",
       "      <th>0</th>\n",
       "      <td>Acute</td>\n",
       "      <td>0.04</td>\n",
       "      <td>0.32</td>\n",
       "      <td>0.08</td>\n",
       "      <td>0.15</td>\n",
       "      <td>0.10</td>\n",
       "    </tr>\n",
       "    <tr>\n",
       "      <th>1</th>\n",
       "      <td>Delayed</td>\n",
       "      <td>0.05</td>\n",
       "      <td>0.22</td>\n",
       "      <td>0.08</td>\n",
       "      <td>0.00</td>\n",
       "      <td>0.22</td>\n",
       "    </tr>\n",
       "  </tbody>\n",
       "</table>\n",
       "</div>"
      ],
      "text/plain": [
       "  ${R^2}$ (Polynomial)  Healthcare  Cannabis  Industry (excl. Cannabis)  \\\n",
       "0                Acute        0.04      0.32                       0.08   \n",
       "1              Delayed        0.05      0.22                       0.08   \n",
       "\n",
       "   Cigarettes  Alcohol  \n",
       "0        0.15     0.10  \n",
       "1        0.00     0.22  "
      ]
     },
     "execution_count": 81,
     "metadata": {},
     "output_type": "execute_result"
    }
   ],
   "source": [
    "d3 = {'${R^2}$ (Polynomial)':[\"Acute\", \"Delayed\"],\n",
    "      'Healthcare':[poly_r_non_health,poly_r_adj_health],\n",
    "      'Cannabis':[poly_r_non_cann, poly_r_adj_cann],\n",
    "      'Industry (excl. Cannabis)':[poly_r_non_ind, poly_r_adj_ind],\n",
    "      'Cigarettes':[poly_r_non_cig, poly_r_adj_cig],\n",
    "      'Alcohol':[poly_r_non_alcohol, poly_r_adj_alcohol]\n",
    "     }\n",
    "df3 = pd.DataFrame(data=d3)\n",
    "df3"
   ]
  },
  {
   "cell_type": "markdown",
   "metadata": {},
   "source": [
    "##### Plotting grouped barchart for polynomial $R^{2}$ values"
   ]
  },
  {
   "cell_type": "code",
   "execution_count": 82,
   "metadata": {},
   "outputs": [
    {
     "name": "stdout",
     "output_type": "stream",
     "text": [
      "Polynomial regression scores of the acute response (naMDI) and delayed response (taMDI) against the economic indicators.\n"
     ]
    },
    {
     "data": {
      "image/png": "[encoded data removed]",
      "text/plain": [
       "<Figure size 468x288 with 1 Axes>"
      ]
     },
     "metadata": {
      "needs_background": "light"
     },
     "output_type": "display_data"
    }
   ],
   "source": [
    "x = np.arange(len(labels))  # the label locations\n",
    "width = 0.35  # the width of the bars\n",
    "fig, ax = plt.subplots(figsize=(6.5, 4.0))\n",
    "rects3 = ax.bar(x - width/2, poly_acute_corr, width, color='#001524', label='Acute Response')\n",
    "rects4 = ax.bar(x + width/2, poly_delayed_corr, width, color='#FF7D00', label='Delayed Response')\n",
    "# Add some text for labels, title and custom x-axis tick labels, etc.\n",
    "ax.set_ylabel('$R^{2}$ Value')\n",
    "ax.set_title('Acute vs. Delayed MGSV (Polynomial Regression)')\n",
    "ax.set_xticks(x)\n",
    "ax.set_xticklabels(labels)\n",
    "ax.legend()\n",
    "\n",
    "def autolabel(rects):\n",
    "    \"\"\"Attach a text label above each bar in *rects*, displaying its height.\"\"\"\n",
    "    for rect in rects:\n",
    "        height = rect.get_height()\n",
    "        ax.annotate('{}'.format(height),\n",
    "                    xy=(rect.get_x() + rect.get_width() / 2, height),\n",
    "                    xytext=(0, 3),  # 3 points vertical offset\n",
    "                    textcoords=\"offset points\",\n",
    "                    ha='center', va='bottom')\n",
    "\n",
    "\n",
    "plt.xticks(rotation=90)\n",
    "print(f'Polynomial regression scores of the acute response (naMDI) and delayed response (taMDI) against the economic indicators.')\n",
    "plt.savefig('./images/poly_chart.png', bbox_inches=\"tight\")"
   ]
  },
  {
   "cell_type": "markdown",
   "metadata": {},
   "source": [
    "Although there were significant interrelationships shown with linear regression the polynomial regression proved better fit and was the model used to analyze interrelationships as a result."
   ]
  },
  {
   "cell_type": "markdown",
   "metadata": {},
   "source": [
    "# Results"
   ]
  },
  {
   "cell_type": "markdown",
   "metadata": {},
   "source": [
    "## Modeling"
   ]
  },
  {
   "cell_type": "markdown",
   "metadata": {},
   "source": [
    "#### Estimated number of individuals experiencing mental distress:\n",
    "taMDI and naMDI modeling provided a fairly narrow range of predictions:"
   ]
  },
  {
   "cell_type": "markdown",
   "metadata": {},
   "source": [
    "- Between 7,790,068.3 and 8,066,567.2 Canadians dealt with a mental health episode in 2018.<br>\n",
    "<br>\n",
    "- Confirms 8,581,600.0 (our baseline) who dealt with a mental health episode in 2019.<br>\n",
    "<br>\n",
    "- Between 9,789,138.0 and 9,821,683.3 Canadians dealt with a mental health episode in 2020, an increase of between 1,207,537.95 (14.07%) and 1,240,083.35 (14.45%) over 2019 estimates.<br>\n",
    "<br>\n",
    "- Between 726,300.3 and 844,543.2 Canadians dealing with a mental health episode in January 2021.<br>\n"
   ]
  },
  {
   "cell_type": "markdown",
   "metadata": {},
   "source": [
    "![dist_chart](./images/dist_chart.png)"
   ]
  },
  {
   "cell_type": "markdown",
   "metadata": {},
   "source": [
    "![dist_df](./images/distress_df.png)<br>"
   ]
  },
  {
   "cell_type": "markdown",
   "metadata": {},
   "source": [
    "### Time-adjusted Mental Distress Index (aMDI)<br>\n",
    "![taMDI](./taMDI.png)<br>"
   ]
  },
  {
   "cell_type": "markdown",
   "metadata": {},
   "source": [
    "#### Time-adjusted Mental Distress Index:\n",
    "Prediction model integrating the concept of time lag introducd by Lee (2020) which showed increased correlation to death by suicide.<br>"
   ]
  },
  {
   "cell_type": "markdown",
   "metadata": {},
   "source": [
    "### Non-adjusted Mental Distress Index (naMDI)<br>\n",
    "![naMDI](./images/naMDI.png)<br>"
   ]
  },
  {
   "cell_type": "markdown",
   "metadata": {},
   "source": [
    "#### Non-adjusted Mental Distress Index:\n",
    "More volitile and does not account for time lag although allows for near-real-time data integration, Google Trends datasets included in this study were inclusive of Jan 11th 2021.<br>"
   ]
  },
  {
   "cell_type": "markdown",
   "metadata": {},
   "source": [
    "## Economic Indicators"
   ]
  },
  {
   "cell_type": "markdown",
   "metadata": {},
   "source": [
    "### Healthcare and Social Assistance<br>\n",
    "![health](./images/health.png)<br>"
   ]
  },
  {
   "cell_type": "markdown",
   "metadata": {},
   "source": [
    "#### Healthcare and Social Assistance:\n",
    "sector encompasses services involved in diagnosis and treatment, providing residential care for medical and social assistance including counselling, welfare, child protection, community housing and food services, vocational rehabilitation and child care, to those requiring assistance."
   ]
  },
  {
   "cell_type": "markdown",
   "metadata": {},
   "source": [
    "### Industry (excl. Cannabis)<br>\n",
    "![industry](./images/ind.png)<br>"
   ]
  },
  {
   "cell_type": "markdown",
   "metadata": {},
   "source": [
    "#### Industry Specific GDP; Industry (excl. Cannabis):\n",
    "The economy was massively affected by spring lockdowns and varying restrictions through the year due to the ongoing pandemic. Employment stressors would be one factor that explain the identified correlation but further study is needed before any conclusions can be made. "
   ]
  },
  {
   "cell_type": "markdown",
   "metadata": {},
   "source": [
    "### Cigarettes and Tobacco<br>\n",
    "![cigarettes](./images/cig.png)<br>\n",
    "<br>\n",
    "<br>"
   ]
  },
  {
   "cell_type": "markdown",
   "metadata": {},
   "source": [
    "#### Tobacco: \n",
    "The carcinogenic properties of cigarettes and tobacco are well known. Other health implications include cardiorespiratory seasonal changes in cigarettes seem to indicate that weather may play a factor, with notable dips in the winter months. Highs in May and Sept suggest that long weekens or holidays may significantly contribute to tobacco sales."
   ]
  },
  {
   "cell_type": "markdown",
   "metadata": {},
   "source": [
    "### Alcohol<br>\n",
    "![alcohol](./images/alcohol.png)<br>\n",
    "<br>"
   ]
  },
  {
   "cell_type": "markdown",
   "metadata": {},
   "source": [
    "#### Alcohol: \n",
    "The depressive properties of alcohol are of especial interest in the mental health field. Inhibition and impulse control are correlated to increased  risk of high risk behaviour including gambling, alcohol, drug use and suicide.<br>"
   ]
  },
  {
   "cell_type": "markdown",
   "metadata": {},
   "source": [
    "### Industry Specific GDP; Cannabis<br>\n",
    "![cannabis](./images/cann.png)<br>\n",
    "<br>"
   ]
  },
  {
   "cell_type": "markdown",
   "metadata": {},
   "source": [
    "#### Cannabis: \n",
    "Commonly used to self-medicate for anxiety and depression, research is still in its early phases but the psycho-active properties increase the risk of psychosis and other mental disorders with increased risk to those under 25 years of age.\n",
    "\n",
    "*It should be noted when looking at Cannabis GDP that the industry was only legalized recreationally in October 2018."
   ]
  },
  {
   "cell_type": "markdown",
   "metadata": {},
   "source": [
    "# Analysis"
   ]
  },
  {
   "cell_type": "markdown",
   "metadata": {},
   "source": [
    "## Implications of acute and chronic stress "
   ]
  },
  {
   "cell_type": "markdown",
   "metadata": {},
   "source": [
    "The patterns and differences between acute and delayed (chronic) stress are also interesting to note. The spending patterns can be viewed as \"stress profiles\", representing a modifier to an individuals likelihood of partaking in a particular activity.<br>"
   ]
  },
  {
   "cell_type": "markdown",
   "metadata": {},
   "source": [
    "![poly_chart](./images/poly_chart.png)<br>\n",
    "<br>"
   ]
  },
  {
   "cell_type": "markdown",
   "metadata": {},
   "source": [
    "There does appear to be a low to moderate correlation between the proposed mental distress indicies and different economic indicators, although more research is required to explore the possible interrelationships. The statistically significant polynomial $R^{2}$ values across multiple attributes suggests that social stress as measured by MGSV does have a positive correlation with spending in industries related to self-medication, with weaker interrelationships with healthcare and general industry.<br>"
   ]
  },
  {
   "cell_type": "markdown",
   "metadata": {},
   "source": [
    "The two proposed models carry different estimates, with naMD estimating January 2021 -2.34% more stressful than January 2019 while taMDI modeling projects it is +8.37% more stressful based on prior months. To predict a *true* current estimate of stress being experienced by the public, a more detailed model encompasing both the acute and delayed models together should be established.<br>"
   ]
  },
  {
   "cell_type": "markdown",
   "metadata": {},
   "source": [
    "It is interesting to note different the emerging trends when comparing the acute and delayed interrelationships:"
   ]
  },
  {
   "cell_type": "markdown",
   "metadata": {},
   "source": [
    "- The correlation to chronic stress on alcohol ($R^{2}$ = .22), healthcare ($R^{2}$ = .05) are greater then that of acute stress ($R^{2}$ = .10 and .04 accordingly).\n",
    "- Acute stress is strongly related to cannabis ($R^{2}$ = .32) and tobacco sales ($R^{2}$ = .15). It should be noted delayed stress showed $R^{2}$ = 0  with tobacco while cannabis still had a significant relationship months after MGSV data ($R^{2}$ = .22).\n",
    "- Industry (excluding Cannabis) functions as a baseline, allowing us to compare the attributes against an aggregated industrial average sales index. The polynomial regression model weakly correlates both acute and delayed stress as having an equal ($R^{2}$ = .08) interrelationship with industry (excl. cannabis). "
   ]
  },
  {
   "cell_type": "markdown",
   "metadata": {},
   "source": [
    "These models suggest Canadians are generally experiencing mildly less acute stress than our 2019 baseline but greater chronic stress from previous months. Extrapolating that information against the plotted polynomial $R^{2}$ interrelationships and we may be able to gather some insight into the behavioural trends that may be expected going forward.<br>"
   ]
  },
  {
   "cell_type": "markdown",
   "metadata": {},
   "source": [
    "## Limitations"
   ]
  },
  {
   "cell_type": "markdown",
   "metadata": {},
   "source": [
    "It is unknown what percentage of respondents to the *Mental health characteristics and suicidal thoughts* (Stats Canada, 2019) were:"
   ]
  },
  {
   "cell_type": "markdown",
   "metadata": {},
   "source": [
    "- Seeking mental healthcare assistance but not reporting suicidal ideation\n",
    "- Reported suicidal ideation but were not seeking mental healthcare assistance\n",
    "- Both confirmed they were experiencing suicidal ideation and currently under care of mental healthcare professional or social worker"
   ]
  },
  {
   "cell_type": "markdown",
   "metadata": {},
   "source": [
    "Clarification regarding the *Mental health characteristics and suicidal thoughts (2019)* study may lower the absolute numbers by up to 43%, but the year over year modeling leaves the aggregate coefficients unchanged.<br>\n",
    "<br>\n",
    "It should also be noted that Google Trends is a proprietary product of Alphabet Inc. and as a result it is impossible to see the underlying raw data or methods. Due to the anonymous sampling of Google Trends data there may be natural variation when repeated which should be evaluated further to improve forecasting predictions. Google Trends gave varying MGSV results when search terms were repeated despite consistent parameters. It is assumed that these results are normally distributed but machine learning could be used to create a more accurate model to account for distributions."
   ]
  },
  {
   "cell_type": "markdown",
   "metadata": {},
   "source": [
    "# Conclusion"
   ]
  },
  {
   "cell_type": "markdown",
   "metadata": {},
   "source": [
    "A strategic multi-faceted plan is urgently needed to prevent collapse of the healthcare system and support a stable economic recovery. In order for this to be done effectively we need up-to-date and relevant socioeconomic data in order to make informed decisions. Identifying models to assess social stress and predict behavioural trends could provide insights and data for economics, healthcare, and public policy. Preliminary research supports the validity of Google Trends as a tool in measuring socioeconomic and healthcare patterns. Further research is needed to clarify and improve these forecasting models as well as exploring the impact demographics may impact the data.<br> "
   ]
  },
  {
   "cell_type": "markdown",
   "metadata": {},
   "source": [
    "##### References:"
   ]
  },
  {
   "cell_type": "markdown",
   "metadata": {},
   "source": [
    "- https://blog.google/products/search/a-new-window-into-our-world-with-real/\n",
    "- https://support.google.com/trends/answer/4365533?hl=en\n",
    "- Mental health characteristics and suicidal thoughts (Stats Canada, 2019)\n",
    "- Gross domestic product by industry, Sept 2020 (Stats Canada, 2020)\n",
    "- Tobacco, sales and inventories, monthly production (x1000) (Stats Canada, 2020)\n",
    "- Monthly retail sales of beer, wine and liquor stores in Canada from 2015 to 2020 (in billion Canadian dollars)(Statista, 2020)\n",
    "- Worldwide desktop market share of leading search engines from January 2010 to October 2020 (Statista, 2020)\n",
    "- Lee, J., (2020) Search trends preceding increases in suicide: A cross-correlation study of\n",
    "monthly Google search volume and suicide rate using transfer function models\n",
    "- Parker, et al. (2017). Forecasting state-level premature deaths from alcohol, drugs, and suicides\n",
    "using Google Trends data\n",
    "- Sapolsky, Robert M. (2004). Why zebras don't get ulcers. New York: Owl Book/Henry Holt and Co."
   ]
  }
 ],
 "metadata": {
  "kernelspec": {
   "display_name": "Python 3",
   "language": "python",
   "name": "python3"
  },
  "language_info": {
   "codemirror_mode": {
    "name": "ipython",
    "version": 3
   },
   "file_extension": ".py",
   "mimetype": "text/x-python",
   "name": "python",
   "nbconvert_exporter": "python",
   "pygments_lexer": "ipython3",
   "version": "3.6.10"
  }
 },
 "nbformat": 4,
 "nbformat_minor": 4
}
